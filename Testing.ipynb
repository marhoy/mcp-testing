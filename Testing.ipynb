{
 "cells": [
  {
   "cell_type": "code",
   "execution_count": 1,
   "id": "5a30468d",
   "metadata": {},
   "outputs": [],
   "source": [
    "from mcp_testing.client.llm_models import get_llm"
   ]
  },
  {
   "cell_type": "code",
   "execution_count": 2,
   "id": "012f73d8",
   "metadata": {},
   "outputs": [],
   "source": [
    "llm = get_llm()"
   ]
  },
  {
   "cell_type": "code",
   "execution_count": 3,
   "id": "8fe92a7d",
   "metadata": {},
   "outputs": [
    {
     "data": {
      "text/plain": [
       "AIMessage(content='A spider has eight legs.', additional_kwargs={'refusal': None}, response_metadata={'token_usage': {'completion_tokens': 7, 'prompt_tokens': 15, 'total_tokens': 22, 'completion_tokens_details': {'accepted_prediction_tokens': 0, 'audio_tokens': 0, 'reasoning_tokens': 0, 'rejected_prediction_tokens': 0}, 'prompt_tokens_details': {'audio_tokens': 0, 'cached_tokens': 0}}, 'model_name': 'gpt-4o-mini-2024-07-18', 'system_fingerprint': 'fp_ded0d14823', 'id': 'chatcmpl-BJNzHBO2BZLNpmvyRqCv8TsLjKMEH', 'prompt_filter_results': [{'prompt_index': 0, 'content_filter_results': {'hate': {'filtered': False, 'severity': 'safe'}, 'self_harm': {'filtered': False, 'severity': 'safe'}, 'sexual': {'filtered': False, 'severity': 'safe'}, 'violence': {'filtered': False, 'severity': 'safe'}}}], 'finish_reason': 'stop', 'logprobs': None, 'content_filter_results': {'hate': {'filtered': False, 'severity': 'safe'}, 'self_harm': {'filtered': False, 'severity': 'safe'}, 'sexual': {'filtered': False, 'severity': 'safe'}, 'violence': {'filtered': False, 'severity': 'safe'}}}, id='run-e7fcd5fe-e8d1-4c76-b023-61895b63af9e-0', usage_metadata={'input_tokens': 15, 'output_tokens': 7, 'total_tokens': 22, 'input_token_details': {'audio': 0, 'cache_read': 0}, 'output_token_details': {'audio': 0, 'reasoning': 0}})"
      ]
     },
     "execution_count": 3,
     "metadata": {},
     "output_type": "execute_result"
    }
   ],
   "source": [
    "llm.invoke(\"How many legs does a spider have?\")"
   ]
  },
  {
   "cell_type": "code",
   "execution_count": null,
   "id": "44839f7a",
   "metadata": {},
   "outputs": [
    {
     "name": "stdout",
     "output_type": "stream",
     "text": [
      "{'messages': [HumanMessage(content='Will vessel G123 get detained?', additional_kwargs={}, response_metadata={}, id='ac167736-a95f-451d-aab9-171f79d3320d'),\n",
      "              AIMessage(content='', additional_kwargs={'tool_calls': [{'id': 'call_k92FRjmIcxiyYmvdXhvR8eiW', 'function': {'arguments': '{\"vessel_id\":\"G123\"}', 'name': 'vessel_probability_detention_probability_post'}, 'type': 'function'}], 'refusal': None}, response_metadata={'token_usage': {'completion_tokens': 23, 'prompt_tokens': 124, 'total_tokens': 147, 'completion_tokens_details': {'accepted_prediction_tokens': 0, 'audio_tokens': 0, 'reasoning_tokens': 0, 'rejected_prediction_tokens': 0}, 'prompt_tokens_details': {'audio_tokens': 0, 'cached_tokens': 0}}, 'model_name': 'gpt-4o-mini-2024-07-18', 'system_fingerprint': 'fp_ded0d14823', 'id': 'chatcmpl-BJP65XsFNtGXYrQ9ov0jVBjvXKRQD', 'prompt_filter_results': [{'prompt_index': 0, 'content_filter_results': {'hate': {'filtered': False, 'severity': 'safe'}, 'self_harm': {'filtered': False, 'severity': 'safe'}, 'sexual': {'filtered': False, 'severity': 'safe'}, 'violence': {'filtered': False, 'severity': 'safe'}}}], 'finish_reason': 'tool_calls', 'logprobs': None, 'content_filter_results': {}}, id='run-503222c7-5881-4304-b68b-25112deaab7a-0', tool_calls=[{'name': 'vessel_probability_detention_probability_post', 'args': {'vessel_id': 'G123'}, 'id': 'call_k92FRjmIcxiyYmvdXhvR8eiW', 'type': 'tool_call'}], usage_metadata={'input_tokens': 124, 'output_tokens': 23, 'total_tokens': 147, 'input_token_details': {'audio': 0, 'cache_read': 0}, 'output_token_details': {'audio': 0, 'reasoning': 0}}),\n",
      "              ToolMessage(content=\"Error: ToolException('Error executing tool vessel_probability_detention_probability_post: All connection attempts failed')\\n Please fix your mistakes.\", name='vessel_probability_detention_probability_post', id='ffa719b8-baf0-47ab-954c-85c52f4a38bd', tool_call_id='call_k92FRjmIcxiyYmvdXhvR8eiW', status='error'),\n",
      "              AIMessage(content='', additional_kwargs={'tool_calls': [{'id': 'call_URxK4AFyIzmY2pc8B8K4IhCy', 'function': {'arguments': '{\"vessel_id\":\"G123\"}', 'name': 'vessel_probability_detention_probability_post'}, 'type': 'function'}], 'refusal': None}, response_metadata={'token_usage': {'completion_tokens': 23, 'prompt_tokens': 184, 'total_tokens': 207, 'completion_tokens_details': {'accepted_prediction_tokens': 0, 'audio_tokens': 0, 'reasoning_tokens': 0, 'rejected_prediction_tokens': 0}, 'prompt_tokens_details': {'audio_tokens': 0, 'cached_tokens': 0}}, 'model_name': 'gpt-4o-mini-2024-07-18', 'system_fingerprint': 'fp_ded0d14823', 'id': 'chatcmpl-BJP65cs6wYRCZrhrGt1nWelrhkYrh', 'prompt_filter_results': [{'prompt_index': 0, 'content_filter_results': {'hate': {'filtered': False, 'severity': 'safe'}, 'self_harm': {'filtered': False, 'severity': 'safe'}, 'sexual': {'filtered': False, 'severity': 'safe'}, 'violence': {'filtered': False, 'severity': 'safe'}}}], 'finish_reason': 'tool_calls', 'logprobs': None, 'content_filter_results': {}}, id='run-672cc4fa-74c8-469e-985a-e487b893775c-0', tool_calls=[{'name': 'vessel_probability_detention_probability_post', 'args': {'vessel_id': 'G123'}, 'id': 'call_URxK4AFyIzmY2pc8B8K4IhCy', 'type': 'tool_call'}], usage_metadata={'input_tokens': 184, 'output_tokens': 23, 'total_tokens': 207, 'input_token_details': {'audio': 0, 'cache_read': 0}, 'output_token_details': {'audio': 0, 'reasoning': 0}}),\n",
      "              ToolMessage(content=\"Error: ToolException('Error executing tool vessel_probability_detention_probability_post: All connection attempts failed')\\n Please fix your mistakes.\", name='vessel_probability_detention_probability_post', id='2db3ae93-153c-49f5-a568-f8235f206e48', tool_call_id='call_URxK4AFyIzmY2pc8B8K4IhCy', status='error'),\n",
      "              AIMessage(content='I am currently unable to retrieve the detention probability for vessel G123 due to a connection issue. Please try again later or check back for updates.', additional_kwargs={'refusal': None}, response_metadata={'token_usage': {'completion_tokens': 31, 'prompt_tokens': 244, 'total_tokens': 275, 'completion_tokens_details': {'accepted_prediction_tokens': 0, 'audio_tokens': 0, 'reasoning_tokens': 0, 'rejected_prediction_tokens': 0}, 'prompt_tokens_details': {'audio_tokens': 0, 'cached_tokens': 0}}, 'model_name': 'gpt-4o-mini-2024-07-18', 'system_fingerprint': 'fp_ded0d14823', 'id': 'chatcmpl-BJP65a7HZUyBLoioBAF3uIyO8U4pO', 'prompt_filter_results': [{'prompt_index': 0, 'content_filter_results': {'hate': {'filtered': False, 'severity': 'safe'}, 'self_harm': {'filtered': False, 'severity': 'safe'}, 'sexual': {'filtered': False, 'severity': 'safe'}, 'violence': {'filtered': False, 'severity': 'safe'}}}], 'finish_reason': 'stop', 'logprobs': None, 'content_filter_results': {'hate': {'filtered': False, 'severity': 'safe'}, 'self_harm': {'filtered': False, 'severity': 'safe'}, 'sexual': {'filtered': False, 'severity': 'safe'}, 'violence': {'filtered': False, 'severity': 'safe'}}}, id='run-88958be3-0a88-47cf-9ed5-4a851187e550-0', usage_metadata={'input_tokens': 244, 'output_tokens': 31, 'total_tokens': 275, 'input_token_details': {'audio': 0, 'cache_read': 0}, 'output_token_details': {'audio': 0, 'reasoning': 0}})]}\n"
     ]
    }
   ],
   "source": [
    "from langchain_mcp_adapters.client import MultiServerMCPClient, SSEConnection\n",
    "from langgraph.prebuilt import create_react_agent\n",
    "\n",
    "from mcp_testing.client.llm_models import get_llm\n",
    "\n",
    "llm = get_llm()\n",
    "\n",
    "sse_connection = SSEConnection(\n",
    "    transport=\"sse\",\n",
    "    url=\"http://127.0.0.1:5050/mcp\",\n",
    "    headers=None,\n",
    "    timeout=10,\n",
    "    sse_read_timeout=10,\n",
    "    session_kwargs=None,\n",
    ")\n",
    "async with MultiServerMCPClient({\"detention\": sse_connection}) as client:\n",
    "    agent = create_react_agent(llm, client.get_tools())\n",
    "    # answer = await agent.ainvoke(\n",
    "    #     {\"messages\": \"How many vessels are there in the database?\"}\n",
    "    # )\n",
    "    answer = await agent.ainvoke({\"messages\": \"Will vessel G123 get detained?\"})\n",
    "\n",
    "import pprint\n",
    "\n",
    "pprint.pprint(answer)"
   ]
  },
  {
   "cell_type": "code",
   "execution_count": 15,
   "id": "c09c9a01",
   "metadata": {},
   "outputs": [
    {
     "data": {
      "text/plain": [
       "'There are a total of 902 vessels in the database.'"
      ]
     },
     "execution_count": 15,
     "metadata": {},
     "output_type": "execute_result"
    }
   ],
   "source": [
    "from langchain_core.output_parsers import StrOutputParser\n",
    "\n",
    "StrOutputParser().invoke(answer[\"messages\"][-1])"
   ]
  },
  {
   "cell_type": "code",
   "execution_count": null,
   "id": "55a31f41",
   "metadata": {},
   "outputs": [],
   "source": []
  }
 ],
 "metadata": {
  "kernelspec": {
   "display_name": ".venv",
   "language": "python",
   "name": "python3"
  },
  "language_info": {
   "codemirror_mode": {
    "name": "ipython",
    "version": 3
   },
   "file_extension": ".py",
   "mimetype": "text/x-python",
   "name": "python",
   "nbconvert_exporter": "python",
   "pygments_lexer": "ipython3",
   "version": "3.13.1"
  }
 },
 "nbformat": 4,
 "nbformat_minor": 5
}
