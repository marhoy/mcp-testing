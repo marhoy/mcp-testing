{
 "cells": [
  {
   "cell_type": "code",
   "execution_count": null,
   "id": "0",
   "metadata": {},
   "outputs": [],
   "source": [
    "from langgraph.prebuilt import create_react_agent\n",
    "\n",
    "from mcp_testing.client import get_mcp_tools\n",
    "from mcp_testing.llm_models import get_llm"
   ]
  },
  {
   "cell_type": "code",
   "execution_count": null,
   "id": "1",
   "metadata": {},
   "outputs": [],
   "source": [
    "llm = get_llm()\n",
    "\n",
    "async with get_mcp_tools() as mcp_tools:\n",
    "    print(f\"MCP tools loaded:\\n{mcp_tools}\\n\\n\")\n",
    "\n",
    "    # Create a REACT agent with the LLM and MCP tools\n",
    "    agent = create_react_agent(llm, mcp_tools)\n",
    "\n",
    "    answer = await agent.ainvoke(\n",
    "        {\"messages\": \"What is the probability of an earthquake in Oslo?\"}\n",
    "    )\n",
    "    print(answer[\"messages\"][-1].content)\n",
    "\n",
    "    answer = await agent.ainvoke(\n",
    "        {\"messages\": \"Where is the next big volacano eruption expected?\"}\n",
    "    )\n",
    "    print(answer[\"messages\"][-1].content)"
   ]
  },
  {
   "cell_type": "code",
   "execution_count": null,
   "id": "2",
   "metadata": {},
   "outputs": [],
   "source": [
    "llm = get_llm()\n",
    "\n",
    "async with get_mcp_tools(\"http://localhost:8543/mcp\") as mcp_tools:\n",
    "    print(f\"MCP tools loaded:\\n{mcp_tools}\\n\\n\")\n",
    "\n",
    "    # Create a REACT agent with the LLM and MCP tools\n",
    "    agent = create_react_agent(llm, mcp_tools)\n",
    "\n",
    "    answer = await agent.ainvoke(\n",
    "        {\"messages\": \"What is the probability of an earthquake in Oslo?\"}\n",
    "    )\n",
    "    print(answer[\"messages\"][-1].content)\n",
    "\n",
    "    answer = await agent.ainvoke(\n",
    "        {\"messages\": \"Where is the next big volacano eruption expected?\"}\n",
    "    )\n",
    "    print(answer[\"messages\"][-1].content)"
   ]
  },
  {
   "cell_type": "code",
   "execution_count": null,
   "id": "3",
   "metadata": {},
   "outputs": [],
   "source": []
  }
 ],
 "metadata": {
  "kernelspec": {
   "display_name": ".venv",
   "language": "python",
   "name": "python3"
  },
  "language_info": {
   "codemirror_mode": {
    "name": "ipython",
    "version": 3
   },
   "file_extension": ".py",
   "mimetype": "text/x-python",
   "name": "python",
   "nbconvert_exporter": "python",
   "pygments_lexer": "ipython3",
   "version": "3.13.1"
  }
 },
 "nbformat": 4,
 "nbformat_minor": 5
}
