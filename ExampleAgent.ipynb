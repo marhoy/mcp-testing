{
 "cells": [
  {
   "cell_type": "code",
   "execution_count": 1,
   "id": "95bc1825",
   "metadata": {},
   "outputs": [],
   "source": [
    "from langgraph.prebuilt import create_react_agent\n",
    "\n",
    "from mcp_testing.client import get_llm, get_mcp_tools"
   ]
  },
  {
   "cell_type": "code",
   "execution_count": 2,
   "id": "4a8a9743",
   "metadata": {},
   "outputs": [
    {
     "name": "stdout",
     "output_type": "stream",
     "text": [
      "MCP tools loaded:\n",
      "[StructuredTool(name='earthquake_probability', description='For a given location, return the earthquake probability.', args_schema={'properties': {'location': {'title': 'Location', 'type': 'string'}}, 'required': ['location'], 'title': 'earthquake_probabilityArguments', 'type': 'object'}, response_format='content_and_artifact', coroutine=<function convert_mcp_tool_to_langchain_tool.<locals>.call_tool at 0x7f389aa56fc0>), StructuredTool(name='next_volcanic_eruption', description='Get the location of the next volcanic eruption.', args_schema={'properties': {}, 'title': 'next_volcanic_eruptionArguments', 'type': 'object'}, response_format='content_and_artifact', coroutine=<function convert_mcp_tool_to_langchain_tool.<locals>.call_tool at 0x7f389aa56ca0>)]\n",
      "\n",
      "\n",
      "The probability of an earthquake in Oslo is approximately 23.0%.\n",
      "The next big volcanic eruption is expected at Popocatépetl in Mexico.\n"
     ]
    }
   ],
   "source": [
    "llm = get_llm()\n",
    "\n",
    "async with get_mcp_tools() as mcp_tools:\n",
    "    print(f\"MCP tools loaded:\\n{mcp_tools}\\n\\n\")\n",
    "\n",
    "    # Create a REACT agent with the LLM and MCP tools\n",
    "    agent = create_react_agent(llm, mcp_tools)\n",
    "\n",
    "    answer = await agent.ainvoke(\n",
    "        {\"messages\": \"What is the probability of an earthquake in Oslo?\"}\n",
    "    )\n",
    "    print(answer[\"messages\"][-1].content)\n",
    "\n",
    "    answer = await agent.ainvoke(\n",
    "        {\"messages\": \"Where is the next big volacano eruption expected?\"}\n",
    "    )\n",
    "    print(answer[\"messages\"][-1].content)\n"
   ]
  },
  {
   "cell_type": "code",
   "execution_count": null,
   "id": "63bab19a",
   "metadata": {},
   "outputs": [],
   "source": []
  }
 ],
 "metadata": {
  "kernelspec": {
   "display_name": ".venv",
   "language": "python",
   "name": "python3"
  },
  "language_info": {
   "codemirror_mode": {
    "name": "ipython",
    "version": 3
   },
   "file_extension": ".py",
   "mimetype": "text/x-python",
   "name": "python",
   "nbconvert_exporter": "python",
   "pygments_lexer": "ipython3",
   "version": "3.13.1"
  }
 },
 "nbformat": 4,
 "nbformat_minor": 5
}
